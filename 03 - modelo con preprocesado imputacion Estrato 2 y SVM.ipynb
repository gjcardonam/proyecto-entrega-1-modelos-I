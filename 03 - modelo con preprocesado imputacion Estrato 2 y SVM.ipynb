{
 "cells": [
  {
   "cell_type": "markdown",
   "id": "5076d31b",
   "metadata": {},
   "source": [
    "# 03 - modelo con preprocesado imputación Estrato 2 y SVM"
   ]
  },
  {
   "cell_type": "markdown",
   "id": "c65c63c8",
   "metadata": {},
   "source": [
    "## Objetivo del notebook"
   ]
  },
  {
   "cell_type": "markdown",
   "id": "44ed2d68",
   "metadata": {},
   "source": [
    "En este notebook implementamos una variante de modelo predictivo usando:\n",
    "\n",
    "- El preprocesamiento basado en la imputación de valores faltantes de la variable FAMI_ESTRATOVIVIENDA asignando la categoría \"Estrato 2\".\n",
    "\n",
    "- La codificación one-hot de dicha variable.\n",
    "\n",
    "- Un clasificador SVM (Support Vector Machine) para realizar la predicción sobre RENDIMIENTO_GLOBAL.\n"
   ]
  },
  {
   "cell_type": "markdown",
   "id": "020b110d",
   "metadata": {},
   "source": [
    "## Carga de librerías y datos"
   ]
  },
  {
   "cell_type": "code",
   "execution_count": 25,
   "id": "63b2dd19",
   "metadata": {},
   "outputs": [],
   "source": [
    "# CARGA DE DATOS Y LIBRERÍAS\n",
    "\n",
    "import pandas as pd\n",
    "import numpy as np\n",
    "import matplotlib.pyplot as plt\n",
    "\n",
    "from sklearn.model_selection import ShuffleSplit, cross_val_score\n",
    "from sklearn.metrics import mean_absolute_error, make_scorer\n",
    "from sklearn.svm import SVR\n"
   ]
  },
  {
   "cell_type": "code",
   "execution_count": 26,
   "id": "908fcc97",
   "metadata": {},
   "outputs": [
    {
     "name": "stdout",
     "output_type": "stream",
     "text": [
      "Shape original: (692500, 12)\n"
     ]
    },
    {
     "data": {
      "text/html": [
       "<div>\n",
       "<style scoped>\n",
       "    .dataframe tbody tr th:only-of-type {\n",
       "        vertical-align: middle;\n",
       "    }\n",
       "\n",
       "    .dataframe tbody tr th {\n",
       "        vertical-align: top;\n",
       "    }\n",
       "\n",
       "    .dataframe thead th {\n",
       "        text-align: right;\n",
       "    }\n",
       "</style>\n",
       "<table border=\"1\" class=\"dataframe\">\n",
       "  <thead>\n",
       "    <tr style=\"text-align: right;\">\n",
       "      <th></th>\n",
       "      <th>ID</th>\n",
       "      <th>PERIODO</th>\n",
       "      <th>ESTU_PRGM_ACADEMICO</th>\n",
       "      <th>ESTU_PRGM_DEPARTAMENTO</th>\n",
       "      <th>ESTU_VALORMATRICULAUNIVERSIDAD</th>\n",
       "      <th>ESTU_HORASSEMANATRABAJA</th>\n",
       "      <th>FAMI_ESTRATOVIVIENDA</th>\n",
       "      <th>FAMI_TIENEINTERNET</th>\n",
       "      <th>FAMI_EDUCACIONPADRE</th>\n",
       "      <th>FAMI_EDUCACIONMADRE</th>\n",
       "      <th>ESTU_PAGOMATRICULAPROPIO</th>\n",
       "      <th>RENDIMIENTO_GLOBAL</th>\n",
       "    </tr>\n",
       "  </thead>\n",
       "  <tbody>\n",
       "    <tr>\n",
       "      <th>0</th>\n",
       "      <td>904256</td>\n",
       "      <td>20212</td>\n",
       "      <td>ENFERMERIA</td>\n",
       "      <td>BOGOTÁ</td>\n",
       "      <td>Entre 5.5 millones y menos de 7 millones</td>\n",
       "      <td>Menos de 10 horas</td>\n",
       "      <td>Estrato 3</td>\n",
       "      <td>Si</td>\n",
       "      <td>Técnica o tecnológica incompleta</td>\n",
       "      <td>Postgrado</td>\n",
       "      <td>No</td>\n",
       "      <td>medio-alto</td>\n",
       "    </tr>\n",
       "    <tr>\n",
       "      <th>1</th>\n",
       "      <td>645256</td>\n",
       "      <td>20212</td>\n",
       "      <td>DERECHO</td>\n",
       "      <td>ATLANTICO</td>\n",
       "      <td>Entre 2.5 millones y menos de 4 millones</td>\n",
       "      <td>0</td>\n",
       "      <td>Estrato 3</td>\n",
       "      <td>No</td>\n",
       "      <td>Técnica o tecnológica completa</td>\n",
       "      <td>Técnica o tecnológica incompleta</td>\n",
       "      <td>No</td>\n",
       "      <td>bajo</td>\n",
       "    </tr>\n",
       "    <tr>\n",
       "      <th>2</th>\n",
       "      <td>308367</td>\n",
       "      <td>20203</td>\n",
       "      <td>MERCADEO Y PUBLICIDAD</td>\n",
       "      <td>BOGOTÁ</td>\n",
       "      <td>Entre 2.5 millones y menos de 4 millones</td>\n",
       "      <td>Más de 30 horas</td>\n",
       "      <td>Estrato 3</td>\n",
       "      <td>Si</td>\n",
       "      <td>Secundaria (Bachillerato) completa</td>\n",
       "      <td>Secundaria (Bachillerato) completa</td>\n",
       "      <td>No</td>\n",
       "      <td>bajo</td>\n",
       "    </tr>\n",
       "    <tr>\n",
       "      <th>3</th>\n",
       "      <td>470353</td>\n",
       "      <td>20195</td>\n",
       "      <td>ADMINISTRACION DE EMPRESAS</td>\n",
       "      <td>SANTANDER</td>\n",
       "      <td>Entre 4 millones y menos de 5.5 millones</td>\n",
       "      <td>0</td>\n",
       "      <td>Estrato 4</td>\n",
       "      <td>Si</td>\n",
       "      <td>No sabe</td>\n",
       "      <td>Secundaria (Bachillerato) completa</td>\n",
       "      <td>No</td>\n",
       "      <td>alto</td>\n",
       "    </tr>\n",
       "    <tr>\n",
       "      <th>4</th>\n",
       "      <td>989032</td>\n",
       "      <td>20212</td>\n",
       "      <td>PSICOLOGIA</td>\n",
       "      <td>ANTIOQUIA</td>\n",
       "      <td>Entre 2.5 millones y menos de 4 millones</td>\n",
       "      <td>Entre 21 y 30 horas</td>\n",
       "      <td>Estrato 3</td>\n",
       "      <td>Si</td>\n",
       "      <td>Primaria completa</td>\n",
       "      <td>Primaria completa</td>\n",
       "      <td>No</td>\n",
       "      <td>medio-bajo</td>\n",
       "    </tr>\n",
       "  </tbody>\n",
       "</table>\n",
       "</div>"
      ],
      "text/plain": [
       "       ID  PERIODO         ESTU_PRGM_ACADEMICO ESTU_PRGM_DEPARTAMENTO  \\\n",
       "0  904256    20212                  ENFERMERIA                 BOGOTÁ   \n",
       "1  645256    20212                     DERECHO              ATLANTICO   \n",
       "2  308367    20203       MERCADEO Y PUBLICIDAD                 BOGOTÁ   \n",
       "3  470353    20195  ADMINISTRACION DE EMPRESAS              SANTANDER   \n",
       "4  989032    20212                  PSICOLOGIA              ANTIOQUIA   \n",
       "\n",
       "             ESTU_VALORMATRICULAUNIVERSIDAD ESTU_HORASSEMANATRABAJA  \\\n",
       "0  Entre 5.5 millones y menos de 7 millones       Menos de 10 horas   \n",
       "1  Entre 2.5 millones y menos de 4 millones                       0   \n",
       "2  Entre 2.5 millones y menos de 4 millones         Más de 30 horas   \n",
       "3  Entre 4 millones y menos de 5.5 millones                       0   \n",
       "4  Entre 2.5 millones y menos de 4 millones     Entre 21 y 30 horas   \n",
       "\n",
       "  FAMI_ESTRATOVIVIENDA FAMI_TIENEINTERNET                 FAMI_EDUCACIONPADRE  \\\n",
       "0            Estrato 3                 Si    Técnica o tecnológica incompleta   \n",
       "1            Estrato 3                 No      Técnica o tecnológica completa   \n",
       "2            Estrato 3                 Si  Secundaria (Bachillerato) completa   \n",
       "3            Estrato 4                 Si                             No sabe   \n",
       "4            Estrato 3                 Si                   Primaria completa   \n",
       "\n",
       "                  FAMI_EDUCACIONMADRE ESTU_PAGOMATRICULAPROPIO  \\\n",
       "0                           Postgrado                       No   \n",
       "1    Técnica o tecnológica incompleta                       No   \n",
       "2  Secundaria (Bachillerato) completa                       No   \n",
       "3  Secundaria (Bachillerato) completa                       No   \n",
       "4                   Primaria completa                       No   \n",
       "\n",
       "  RENDIMIENTO_GLOBAL  \n",
       "0         medio-alto  \n",
       "1               bajo  \n",
       "2               bajo  \n",
       "3               alto  \n",
       "4         medio-bajo  "
      ]
     },
     "metadata": {},
     "output_type": "display_data"
    }
   ],
   "source": [
    "# Cargar los datos originales\n",
    "df = pd.read_csv(\"train.csv\")\n",
    "print(\"Shape original:\", df.shape)\n",
    "display(df.head())"
   ]
  },
  {
   "cell_type": "markdown",
   "id": "9a248c99",
   "metadata": {},
   "source": [
    "## Muestra de trabajo"
   ]
  },
  {
   "cell_type": "markdown",
   "id": "8eff023b",
   "metadata": {},
   "source": [
    "Dado que el dataset completo es muy grande, para fines de pruebas preliminares trabajamos con una muestra aleatoria de 2000 registros, tal como lo hicimos en los notebooks anteriores."
   ]
  },
  {
   "cell_type": "code",
   "execution_count": 27,
   "id": "45d42bb4",
   "metadata": {},
   "outputs": [
    {
     "name": "stdout",
     "output_type": "stream",
     "text": [
      "Shape muestra: (2000, 12)\n"
     ]
    }
   ],
   "source": [
    "# REDUCCIÓN DE MUESTRA (manteniendo la misma muestra de los notebooks anteriores)\n",
    "df = df.sample(n=2000, random_state=42).reset_index(drop=True)\n",
    "print(\"Shape muestra:\", df.shape)"
   ]
  },
  {
   "cell_type": "code",
   "execution_count": 28,
   "id": "f5aeeee9",
   "metadata": {},
   "outputs": [],
   "source": [
    "\n",
    "# IMPUTACIÓN ESTRATO 2 EN 'FAMI_ESTRATOVIVIENDA'\n",
    "\n",
    "col = \"FAMI_ESTRATOVIVIENDA\"\n",
    "df[col] = df[col].fillna(\"Estrato 2\")"
   ]
  },
  {
   "cell_type": "code",
   "execution_count": 29,
   "id": "3453a8b0",
   "metadata": {},
   "outputs": [],
   "source": [
    "# TRATAMIENTO DE TODAS LAS VARIABLES CATEGÓRICAS\n",
    "\n",
    "# Listado de columnas categóricas a transformar\n",
    "cat_cols = [\n",
    "    \"ESTU_VALORMATRICULAUNIVERSIDAD\",\n",
    "    \"ESTU_HORASSEMANATRABAJA\",\n",
    "    \"FAMI_ESTRATOVIVIENDA\",\n",
    "    \"FAMI_TIENEINTERNET\",\n",
    "    \"FAMI_EDUCACIONPADRE\",\n",
    "    \"FAMI_EDUCACIONMADRE\",\n",
    "    \"ESTU_PAGOMATRICULAPROPIO\"\n",
    "]\n",
    "\n",
    "# Reemplazamos los NaN por la categoría más frecuente de cada columna\n",
    "for col in cat_cols:\n",
    "    df[col] = df[col].fillna(df[col].mode()[0])\n",
    "\n",
    "# Hacemos el one-hot encoding de forma automática\n",
    "df_encoded = pd.get_dummies(df[cat_cols])"
   ]
  },
  {
   "cell_type": "code",
   "execution_count": 30,
   "id": "c96aa8d2",
   "metadata": {},
   "outputs": [
    {
     "name": "stdout",
     "output_type": "stream",
     "text": [
      "Shape final de X: (2000, 49)\n"
     ]
    }
   ],
   "source": [
    "# UNIMOS VARIABLES NUMÉRICAS + ONE HOT\n",
    "# (PERIODO e ID también pueden ser considerados si deseas)\n",
    "num_cols = [\"PERIODO\"]\n",
    "\n",
    "X = pd.concat([df[num_cols], df_encoded], axis=1)\n",
    "print(\"Shape final de X:\", X.shape)"
   ]
  },
  {
   "cell_type": "code",
   "execution_count": 31,
   "id": "a783fd13",
   "metadata": {},
   "outputs": [],
   "source": [
    "# TRANSFORMACIÓN DE TARGET\n",
    "rendimiento_map = {\n",
    "    'bajo': 0,\n",
    "    'medio-bajo': 1,\n",
    "    'medio-alto': 2,\n",
    "    'alto': 3\n",
    "}\n",
    "y = df[\"RENDIMIENTO_GLOBAL\"].map(rendimiento_map)"
   ]
  },
  {
   "cell_type": "code",
   "execution_count": 32,
   "id": "cf0ad00e",
   "metadata": {},
   "outputs": [
    {
     "name": "stdout",
     "output_type": "stream",
     "text": [
      "MAE promedio: 1.014 (±0.022)\n"
     ]
    }
   ],
   "source": [
    "# ENTRENAMIENTO Y VALIDACIÓN CON SVM\n",
    "\n",
    "# Definimos el modelo\n",
    "estimator = SVR()\n",
    "\n",
    "# Definimos la validación cruzada\n",
    "cv = ShuffleSplit(n_splits=30, test_size=0.3, random_state=42)\n",
    "\n",
    "# Métrica de evaluación\n",
    "scoring = make_scorer(mean_absolute_error)\n",
    "\n",
    "# Ejecutamos cross validation\n",
    "scores = cross_val_score(estimator, X, y, cv=cv, scoring=scoring)\n",
    "\n",
    "# Mostramos resultados\n",
    "print(\"MAE promedio: %.3f (±%.3f)\" % (scores.mean(), scores.std()))"
   ]
  }
 ],
 "metadata": {
  "kernelspec": {
   "display_name": "Python 3",
   "language": "python",
   "name": "python3"
  },
  "language_info": {
   "codemirror_mode": {
    "name": "ipython",
    "version": 3
   },
   "file_extension": ".py",
   "mimetype": "text/x-python",
   "name": "python",
   "nbconvert_exporter": "python",
   "pygments_lexer": "ipython3",
   "version": "3.13.2"
  }
 },
 "nbformat": 4,
 "nbformat_minor": 5
}
